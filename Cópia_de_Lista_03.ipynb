{
  "cells": [
    {
      "cell_type": "markdown",
      "metadata": {
        "id": "view-in-github",
        "colab_type": "text"
      },
      "source": [
        "<a href=\"https://colab.research.google.com/github/luanFilipeDias616/Luanlist/blob/main/C%C3%B3pia_de_Lista_03.ipynb\" target=\"_parent\"><img src=\"https://colab.research.google.com/assets/colab-badge.svg\" alt=\"Open In Colab\"/></a>"
      ]
    },
    {
      "cell_type": "markdown",
      "metadata": {
        "id": "2Te_e2g4N96Z"
      },
      "source": [
        "# Exercícios: Listas"
      ]
    },
    {
      "cell_type": "markdown",
      "metadata": {
        "id": "hYk3NA3MN96b"
      },
      "source": [
        "## Questão 1\n",
        "Dada a lista abaixo, contendo as notas de um aluno, escreva um programa que calcule a média do aluno e imprima na tela"
      ]
    },
    {
      "cell_type": "code",
      "execution_count": null,
      "metadata": {
        "colab": {
          "base_uri": "https://localhost:8080/"
        },
        "id": "gMPCo3WGN96c",
        "outputId": "d8476346-4604-459b-c303-d85eef58868b"
      },
      "outputs": [
        {
          "name": "stdout",
          "output_type": "stream",
          "text": [
            "a média arredondada é: 7\n"
          ]
        }
      ],
      "source": [
        "notas = [4.0, 8.4, 7.9]\n",
        "\n",
        "media = sum(notas)/len(notas)\n",
        "print(\"a média arredondada é:\", round(media))\n"
      ]
    },
    {
      "cell_type": "markdown",
      "metadata": {
        "id": "0JZprVMxN96h"
      },
      "source": [
        "## Questão 2\n",
        "Faça um programa que leia um número indeterminado de valores, correspondentes a notas, encerrando a entrada de dados quando for informado um valor igual a -1 (que não deve ser armazenado). Após esta entrada de dados, faça:\n",
        "\n",
        "- Mostre a quantidade de valores que foram lidos;\n",
        "- Exiba todos os valores na ordem em que foram informados, um ao lado do outro;\n",
        "- Calcule e mostre a soma dos valores;\n",
        "- Calcule e mostre a média dos valores"
      ]
    },
    {
      "cell_type": "code",
      "source": [
        "while True:\n",
        "    try:\n",
        "        n = int(input('|Desejas inserir quantas notas? R°: '))\n",
        "\n",
        "        break\n",
        "    except ValueError:\n",
        "        print('\\033[31mValor INVÁLIDO! Digite apenas números inteiros!\\033[m')\n",
        "print(\"************************\")\n",
        "\n",
        "todos_numeros = list()\n",
        "\n",
        "for c in range(1, n + 1):\n",
        "    while True:\n",
        "        try:\n",
        "            v = float(input(f'|Digite a {c}° nota: '))\n",
        "            break\n",
        "        except ValueError:\n",
        "            print('\\033[31mValor INVÁLIDO! Digite apenas números reais!\\033[m')\n",
        "    todos_numeros.append(v)\n",
        "print(\"************************\")\n",
        "print(\"|Quantidade de notas inseridas é:\", n)\n",
        "print(\"|Notas inseridas:\", todos_numeros)\n",
        "\n",
        "n2 = sum(todos_numeros)\n",
        "print(\"|A soma das notas é:\", n2)\n",
        "n3 = n2/n\n",
        "print(\"|A média das notas é:\", n3)"
      ],
      "metadata": {
        "colab": {
          "base_uri": "https://localhost:8080/"
        },
        "id": "PuzMqm_EsBBP",
        "outputId": "6141ac48-f13d-4262-fd98-629986bd6852"
      },
      "execution_count": null,
      "outputs": [
        {
          "output_type": "stream",
          "name": "stdout",
          "text": [
            "|Desejas inserir quantas notas? R°: 3\n",
            "************************\n",
            "|Digite a 1° nota: 8\n",
            "|Digite a 2° nota: 8\n",
            "|Digite a 3° nota: 7\n",
            "************************\n",
            "|Quantidade de notas inseridas é: 3\n",
            "|Notas inseridas: [8.0, 8.0, 7.0]\n",
            "|A soma das notas é: 23.0\n",
            "|A média das notas é: 7.666666666666667\n"
          ]
        }
      ]
    },
    {
      "cell_type": "code",
      "source": [],
      "metadata": {
        "id": "r2RygU9B-Gmf"
      },
      "execution_count": null,
      "outputs": []
    },
    {
      "cell_type": "markdown",
      "metadata": {
        "id": "LednoeKiN96i"
      },
      "source": [
        "## Questão 3\n",
        "Dadas as duas listas abaixo, representando dois vetores, faça um programa que calcule o vetor resultante da soma dos dois vetores."
      ]
    },
    {
      "cell_type": "code",
      "execution_count": null,
      "metadata": {
        "colab": {
          "base_uri": "https://localhost:8080/"
        },
        "id": "3e3prnvmN96j",
        "outputId": "d81cc523-d2f9-4444-cf10-b6786808b734"
      },
      "outputs": [
        {
          "name": "stdout",
          "output_type": "stream",
          "text": [
            " vetor resultante é: v3 = [(4.4, 9.3, 14, 18, 21.1)]\n"
          ]
        }
      ],
      "source": [
        "\n",
        "v1 = [4, 6.7, 9, 10, 0.1]\n",
        "v2 = [0.4, 2.6, 5, 8, 21]\n",
        "\n",
        "vetor3 = (v1[0] + v2[0], v1[1] + v2[1], v1[2] + v2[2], v1[3] +v2[3], v1[4] + v2[4])\n",
        "print(\" vetor resultante é: v3 =\", [vetor3])"
      ]
    },
    {
      "cell_type": "markdown",
      "metadata": {
        "id": "pzLlPr0FPiee"
      },
      "source": [
        "## Questão 4\n",
        "Escreva um programa em python que receba como entrada dois inteiros, `m` (linhas) e `n` (colunas) e gere uma uma matriz de modo que o valor da $i$-ésima linha e da $j$-ésima coluna da matriz seja $i*j$, onde $0 \\leq i < n$ e $0 \\leq j < m$\n",
        "```\n",
        "Dados: LINHAS = 3, COLUNAS = 4\n",
        "Resultado : [[0, 0, 0, 0], [0, 1, 2, 3], [0, 2, 4, 6]]\n",
        "```"
      ]
    },
    {
      "cell_type": "code",
      "execution_count": null,
      "metadata": {
        "id": "a7d_8T1nPwiv"
      },
      "outputs": [],
      "source": []
    },
    {
      "cell_type": "code",
      "source": [
        "gerar_matriz(3, 4)"
      ],
      "metadata": {
        "id": "QIQaZeXMBvFT",
        "colab": {
          "base_uri": "https://localhost:8080/"
        },
        "outputId": "73e562e5-e7b1-4049-c08b-ef355e1305ed"
      },
      "execution_count": null,
      "outputs": [
        {
          "output_type": "execute_result",
          "data": {
            "text/plain": [
              "[[' ', ' ', ' ', ' '], [' ', ' ', ' ', ' '], [' ', ' ', ' ', ' ']]"
            ]
          },
          "metadata": {},
          "execution_count": 129
        }
      ]
    }
  ],
  "metadata": {
    "colab": {
      "provenance": [],
      "include_colab_link": true
    },
    "kernelspec": {
      "display_name": "Python 3",
      "language": "python",
      "name": "python3"
    },
    "language_info": {
      "codemirror_mode": {
        "name": "ipython",
        "version": 3
      },
      "file_extension": ".py",
      "mimetype": "text/x-python",
      "name": "python",
      "nbconvert_exporter": "python",
      "pygments_lexer": "ipython3",
      "version": "3.7.1"
    }
  },
  "nbformat": 4,
  "nbformat_minor": 0
}