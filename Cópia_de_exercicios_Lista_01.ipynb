{
  "cells": [
    {
      "cell_type": "markdown",
      "metadata": {
        "id": "view-in-github",
        "colab_type": "text"
      },
      "source": [
        "<a href=\"https://colab.research.google.com/github/luanFilipeDias616/Luanlist/blob/main/C%C3%B3pia_de_exercicios_Lista_01.ipynb\" target=\"_parent\"><img src=\"https://colab.research.google.com/assets/colab-badge.svg\" alt=\"Open In Colab\"/></a>"
      ]
    },
    {
      "cell_type": "code",
      "execution_count": null,
      "metadata": {
        "id": "lGy1yNX-2e92",
        "colab": {
          "base_uri": "https://localhost:8080/"
        },
        "outputId": "5bc99ab5-a4b5-4dae-d8dc-0db804eba381"
      },
      "outputs": [
        {
          "output_type": "stream",
          "name": "stdout",
          "text": [
            "igite um número23\n",
            "O número informado foi 23\n"
          ]
        }
      ],
      "source": [
        "numero = input(\"igite um número\")\n",
        "print(\"O número informado foi \" + numero)"
      ]
    },
    {
      "cell_type": "markdown",
      "metadata": {
        "id": "lm19UdvU2e93"
      },
      "source": [
        "## Questao 2\n",
        "Faça um Programa que peça dois números e imprima a soma."
      ]
    },
    {
      "cell_type": "code",
      "execution_count": null,
      "metadata": {
        "id": "Tg67yUoQ2e93",
        "outputId": "1171f4da-1f7c-43cf-b830-4c79bfd39209",
        "colab": {
          "base_uri": "https://localhost:8080/"
        }
      },
      "outputs": [
        {
          "output_type": "stream",
          "name": "stdout",
          "text": [
            "digite um número40\n",
            "digite um número12\n",
            "a soma é 52\n"
          ]
        }
      ],
      "source": [
        "numero1 = int(input(\"digite um número\"))\n",
        "numero2 = int(input(\"digite um número\"))\n",
        "print(\"a soma é\",numero1 + numero2)"
      ]
    },
    {
      "cell_type": "markdown",
      "metadata": {
        "id": "NSM6Wurw2e93"
      },
      "source": [
        "## Questao 3\n",
        "Faça um Programa que peça as 4 notas bimestrais e mostre a média."
      ]
    },
    {
      "cell_type": "code",
      "execution_count": null,
      "metadata": {
        "id": "0y-siXNt2e94",
        "outputId": "93560b88-945f-44eb-d2f6-05e98a643dc4",
        "colab": {
          "base_uri": "https://localhost:8080/"
        }
      },
      "outputs": [
        {
          "output_type": "stream",
          "name": "stdout",
          "text": [
            "digite um número9\n",
            "digite um número6\n",
            "digite um número5\n",
            "digite um número10\n",
            "a media é 7.5\n"
          ]
        }
      ],
      "source": [
        "numero1 = int(input(\"digite um número\"))\n",
        "numero2 = int(input(\"digite um número\"))\n",
        "numero3 = int(input(\"digite um número\"))\n",
        "numero4 = int(input(\"digite um número\"))\n",
        "soma = numero1 + numero2 + numero3 + numero4\n",
        "media = soma / 4\n",
        "print(\"a media é\" , media)\n"
      ]
    },
    {
      "cell_type": "markdown",
      "metadata": {
        "id": "aKxSCuY_2e94"
      },
      "source": [
        "## Questao 4\n",
        "Faça um Programa que converta metros para centímetros."
      ]
    },
    {
      "cell_type": "code",
      "execution_count": null,
      "metadata": {
        "id": "k6TweGSb2e94",
        "outputId": "4045c632-b061-4c55-cd2f-6c070c08e9ff",
        "colab": {
          "base_uri": "https://localhost:8080/"
        }
      },
      "outputs": [
        {
          "output_type": "stream",
          "name": "stdout",
          "text": [
            "digite um número5\n",
            "cm é 500\n"
          ]
        }
      ],
      "source": [
        "numero1 = int(input(\"digite um número\"))\n",
        "cm = numero1 * 100\n",
        "print(\"cm é\",numero1 * 100)"
      ]
    },
    {
      "cell_type": "markdown",
      "metadata": {
        "id": "CFI9W2x32e94"
      },
      "source": [
        "## Questao 5\n",
        "Faça um Programa que peça o raio de um círculo, calcule e mostre sua área."
      ]
    },
    {
      "cell_type": "code",
      "execution_count": null,
      "metadata": {
        "id": "AmZfLSQn2e95",
        "outputId": "44dbf2f6-c719-42eb-bed5-e0124f522082",
        "colab": {
          "base_uri": "https://localhost:8080/"
        }
      },
      "outputs": [
        {
          "output_type": "stream",
          "name": "stdout",
          "text": [
            "digite um número4\n",
            "area é 50.24\n"
          ]
        }
      ],
      "source": [
        "numero1 = int(input(\"digite um número\"))\n",
        "area = numero1 * numero1 * 3.14\n",
        "print(\"area é\",numero1 * numero1 * 3.14)"
      ]
    },
    {
      "cell_type": "markdown",
      "metadata": {
        "id": "NAOJu7g42e96"
      },
      "source": [
        "## Questao 6\n",
        "Faça um Programa que calcule a área de um quadrado, em seguida mostre o dobro desta área para o usuário."
      ]
    },
    {
      "cell_type": "code",
      "execution_count": null,
      "metadata": {
        "id": "hOQOouvH2e96",
        "outputId": "be4b7778-2649-4402-d808-e118ced47c2c",
        "colab": {
          "base_uri": "https://localhost:8080/"
        }
      },
      "outputs": [
        {
          "output_type": "stream",
          "name": "stdout",
          "text": [
            "digite um número2\n",
            "area é 8\n"
          ]
        }
      ],
      "source": [
        "numero1 = int(input(\"digite um número\"))\n",
        "area = numero1 * numero1\n",
        "print(\"area é\", numero1 * numero1 * 2 )"
      ]
    },
    {
      "cell_type": "markdown",
      "metadata": {
        "id": "yYouC04Z2e96"
      },
      "source": [
        "## Questao 7\n",
        "Faça um Programa que pergunte quanto você ganha por hora e o número de horas trabalhadas no mês. Calcule e mostre o total do seu salário no referido mês."
      ]
    },
    {
      "cell_type": "code",
      "execution_count": null,
      "metadata": {
        "id": "VPIsoNOm2e96",
        "outputId": "9cfbc9ca-a3cc-4390-ac89-b4dff459e107",
        "colab": {
          "base_uri": "https://localhost:8080/"
        }
      },
      "outputs": [
        {
          "output_type": "stream",
          "name": "stdout",
          "text": [
            "digite um número5\n",
            "digite um número44\n",
            "salario é 220\n"
          ]
        }
      ],
      "source": [
        "numero1 = int(input(\"digite um número\"))\n",
        "numero2 = int(input(\"digite um número\"))\n",
        "print(\"salario é\", numero1 * numero2 )"
      ]
    },
    {
      "cell_type": "markdown",
      "metadata": {
        "id": "-MU4pThG2e96"
      },
      "source": [
        "## Questao 8\n",
        "Faça um Programa que peça a temperatura em graus Farenheit, transforme e mostre a temperatura em graus Celsius. o C=(5*(F-32)/9)."
      ]
    },
    {
      "cell_type": "code",
      "execution_count": null,
      "metadata": {
        "id": "wt42KBvQ2e97",
        "outputId": "df6fa3e8-c16f-4fbe-c389-02dc33179615",
        "colab": {
          "base_uri": "https://localhost:8080/"
        }
      },
      "outputs": [
        {
          "output_type": "stream",
          "name": "stdout",
          "text": [
            "digite um número0\n",
            "farenheit é -17.77777777777778\n"
          ]
        }
      ],
      "source": [
        "numero1 = int(input(\"digite um número\"))\n",
        "print(\"farenheit é\", 5*(numero1-32)/9)"
      ]
    },
    {
      "cell_type": "markdown",
      "metadata": {
        "id": "6jxXNZ242e97"
      },
      "source": [
        "## Questao 9\n",
        "Faça um Programa que peça a temperatura em graus Celsius, transforme e mostre em graus Farenheit."
      ]
    },
    {
      "cell_type": "code",
      "execution_count": null,
      "metadata": {
        "id": "EEg4Zidj2e97",
        "outputId": "e18418f0-a4aa-403d-f85a-bffebd974ed7",
        "colab": {
          "base_uri": "https://localhost:8080/"
        }
      },
      "outputs": [
        {
          "output_type": "stream",
          "name": "stdout",
          "text": [
            "digite um número0\n",
            "celsius é 32.0\n"
          ]
        }
      ],
      "source": [
        "numero1 = int(input(\"digite um número\"))\n",
        "print(\"celsius é\", (numero1*9/5) + 32)"
      ]
    },
    {
      "cell_type": "markdown",
      "metadata": {
        "id": "WS13256U2e97"
      },
      "source": [
        "## Questao 10\n",
        "Faça um Programa que peça 2 números inteiros e um número real. Calcule e mostre:\n",
        "- o produto do dobro do primeiro com metade do segundo.\n",
        "- a soma do triplo do primeiro com o terceiro.\n",
        "- o terceiro elevado ao cubo."
      ]
    },
    {
      "cell_type": "code",
      "execution_count": null,
      "metadata": {
        "id": "Z3eunu2C2e97",
        "colab": {
          "base_uri": "https://localhost:8080/"
        },
        "outputId": "18eb6d46-a52b-40cc-9165-d9522662f0a1"
      },
      "outputs": [
        {
          "output_type": "stream",
          "name": "stdout",
          "text": [
            "digite um número7\n",
            "digite um número8\n",
            "digite um número9\n",
            "esse é 56.0\n",
            "esse  é 30.0\n",
            "esse é 729.0\n"
          ]
        }
      ],
      "source": [
        "numero1 = int(input(\"digite um número\"))\n",
        "numero2 = int(input(\"digite um número\"))\n",
        "numero3 = float(input(\"digite um número\"))\n",
        "print(\"esse é\", (2 * numero1) * numero2 / 2)\n",
        "print(\"esse  é\", 3 * numero1 + numero3)\n",
        "print(\"esse é\", numero3*numero3 *numero3)"
      ]
    },
    {
      "cell_type": "markdown",
      "metadata": {
        "id": "myYtmQMy2e97"
      },
      "source": [
        "## Questao 11\n",
        "Tendo como dados de entrada a altura de uma pessoa, construa um algoritmo que calcule seu peso ideal, usando a seguinte fórmula:\n",
        "    \n",
        "    (72.7*altura) - 58\n"
      ]
    },
    {
      "cell_type": "code",
      "execution_count": null,
      "metadata": {
        "id": "WewvVHrk2e97",
        "colab": {
          "base_uri": "https://localhost:8080/"
        },
        "outputId": "46bc947e-5272-4fe7-9d94-2b08396816d6"
      },
      "outputs": [
        {
          "output_type": "stream",
          "name": "stdout",
          "text": [
            "digite um número1.73\n",
            "peso ideal é 66.56\n"
          ]
        }
      ],
      "source": [
        "numero1 = float(input(\"digite um número\"))\n",
        "print(\"peso ideal é\", (72*numero1) - 58)"
      ]
    },
    {
      "cell_type": "markdown",
      "metadata": {
        "id": "jrq0Wbvl2e97"
      },
      "source": [
        "## Questao 12\n",
        "Tendo como dados de entrada a altura e o sexo de uma pessoa, construa um algoritmo que calcule seu peso ideal, utilizando as seguintes fórmulas:\n",
        "- Para homens: (72.7*h) - 58\n",
        "- Para mulheres: (62.1*h) - 44.7 (h = altura)\n",
        "\n",
        "Peça o peso da pessoa e informe se ela está dentro, acima ou abaixo do peso."
      ]
    },
    {
      "cell_type": "code",
      "execution_count": null,
      "metadata": {
        "id": "x_ns0G7B2e97"
      },
      "outputs": [],
      "source": [
        "h = float(input(\"Digite a sua alhtura\"))\n",
        "sexo = input(\"Digite o seu sexo\")\n",
        "p = float(input(\"Digite o seu peso\"))\n",
        "if (sexo.lower() == \"homem\")\n",
        "    peso_idealM = (72.7*h) - 58\n",
        "    if p == peso_idealM:\n",
        "        input(\"O seu peso esta ideal\")\n",
        "    else:\n",
        "        input(\"O seu peso não está ideal\")\n",
        "elif\n"
      ]
    }
  ],
  "metadata": {
    "kernelspec": {
      "display_name": "Python 3",
      "language": "python",
      "name": "python3"
    },
    "language_info": {
      "codemirror_mode": {
        "name": "ipython",
        "version": 3
      },
      "file_extension": ".py",
      "mimetype": "text/x-python",
      "name": "python",
      "nbconvert_exporter": "python",
      "pygments_lexer": "ipython3",
      "version": "3.7.1"
    },
    "colab": {
      "provenance": [],
      "include_colab_link": true
    }
  },
  "nbformat": 4,
  "nbformat_minor": 0
}