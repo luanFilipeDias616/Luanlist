{
  "cells": [
    {
      "cell_type": "markdown",
      "metadata": {
        "id": "view-in-github",
        "colab_type": "text"
      },
      "source": [
        "<a href=\"https://colab.research.google.com/github/luanFilipeDias616/Luanlist/blob/main/M%C3%A9todos_Num%C3%A9ricos(exerc%C3%ADcios_1).ipynb\" target=\"_parent\"><img src=\"https://colab.research.google.com/assets/colab-badge.svg\" alt=\"Open In Colab\"/></a>"
      ]
    },
    {
      "cell_type": "markdown",
      "source": [
        "LUAN FILIPE DIAS DE SENA\n",
        "\n",
        "Disciplina: métodos numéricos e computacionais\n",
        "\n",
        "Exercícios propostos na data 01/04/2024\n",
        "\n",
        "Turma: engenharia ambiental"
      ],
      "metadata": {
        "id": "xg5jcCzhBqmo"
      }
    },
    {
      "cell_type": "markdown",
      "metadata": {
        "id": "HbMBdA8RXFGk"
      },
      "source": [
        "O código abaixo é uma tentativa de calcular e^-5 através da série de Taylor. A questão é que o problema desse código é o erro relativo (%) significamente alto nas duas primeiras tentativas de aproximar e^-5 ((math.eexp (-5) ) ao valor real da operação. Isso tem implicações catastróficas em termos de aplicalidade a qualquer que seja o ramo tecnológico, por exemplo. Um erro desse nível precisa ser corrigido e é o que será feito imediatamente abaixo."
      ]
    },
    {
      "cell_type": "code",
      "source": [
        "\n",
        "import math\n",
        "def eexp(x, n):\n",
        "    y = 0\n",
        "    for k in range(n + 1):\n",
        "        y = y + x ** k / math . factorial ( k )\n",
        "    return y\n",
        "\n",
        "ex = math.exp (-5)\n",
        "print ('{:>3}{:>14}{:>14}{:>14}{:>14}'.format (\"n\", \"eexp(-5, n)\", \"erro (%)\", \"1/eexp(5, n)\", \"erro (%)\"))\n",
        "for n in range(15, 36):\n",
        "    y1 = eexp (-5, n)\n",
        "    y2 = 1 / eexp (5, n)\n",
        "    ea1 = abs (y1 - ex)\n",
        "    ea2 = abs (y2 - ex)\n",
        "    er1 = abs (ea1 / ex) * 100\n",
        "    er2 = abs (ea2 / ex) * 100\n",
        "    print ('{:3d}{:14.10f}{:14.10f}{:14.10f}{:14.10f}'.format (n, y1, er1, y2, er2))"
      ],
      "metadata": {
        "colab": {
          "base_uri": "https://localhost:8080/"
        },
        "id": "Ww5veM_Vt0MC",
        "outputId": "2d8512a9-20d4-43b1-be50-8fda17f1abc7"
      },
      "execution_count": null,
      "outputs": [
        {
          "output_type": "stream",
          "name": "stdout",
          "text": [
            "  n   eexp(-5, n)      erro (%)  1/eexp(5, n)      erro (%)\n",
            " 15  0.0011193798 83.3869310202  0.0067384120  0.0069013004\n",
            " 16  0.0084122834 24.8493558693  0.0067380809  0.0019869438\n",
            " 17  0.0062673118  6.9848461570  0.0067379835  0.0005416368\n",
            " 18  0.0068631372  1.8579877392  0.0067379564  0.0001401700\n",
            " 19  0.0067063411  0.4690738125  0.0067379493  0.0000345214\n",
            " 20  0.0067455401  0.1126915755  0.0067379475  0.0000081093\n",
            " 21  0.0067362070  0.0258239931  0.0067379471  0.0000018207\n",
            " 22  0.0067383282  0.0056568179  0.0067379470  0.0000003914\n",
            " 23  0.0067378670  0.0011868366  0.0067379470  0.0000000807\n",
            " 24  0.0067379631  0.0002389247  0.0067379470  0.0000000160\n",
            " 25  0.0067379439  0.0000462275  0.0067379470  0.0000000030\n",
            " 26  0.0067379476  0.0000086094  0.0067379470  0.0000000006\n",
            " 27  0.0067379469  0.0000015456  0.0067379470  0.0000000001\n",
            " 28  0.0067379470  0.0000002678  0.0067379470  0.0000000000\n",
            " 29  0.0067379470  0.0000000448  0.0067379470  0.0000000000\n",
            " 30  0.0067379470  0.0000000073  0.0067379470  0.0000000000\n",
            " 31  0.0067379470  0.0000000011  0.0067379470  0.0000000000\n",
            " 32  0.0067379470  0.0000000002  0.0067379470  0.0000000000\n",
            " 33  0.0067379470  0.0000000000  0.0067379470  0.0000000000\n",
            " 34  0.0067379470  0.0000000000  0.0067379470  0.0000000000\n",
            " 35  0.0067379470  0.0000000000  0.0067379470  0.0000000000\n"
          ]
        }
      ]
    },
    {
      "cell_type": "markdown",
      "source": [
        "Este código abaixo é uma modificação do código acima, de modo a reduzir o erro significamente devido a entrada de um valor negativo(o -5, nesse caso).\n",
        "\n",
        "Primeiramente, foi introduzido e definido a função eexptol com os parâmetros x, tol e ex.\n",
        "\n",
        "x: trata - se da entrada do expoente do número de Euler\n",
        "\n",
        "tol: nível de tolerância aceitável para um eventual erro.\n",
        "\n",
        "ex: valor exato da operação envolvendo o número de Euler.\n",
        "\n",
        "Basicamente o que o código faz é entrar em um loop com o objetivo de chegar em um valor do erro menor do que a tolerância aceitável(que pode ser definida pelo usuário).\n",
        "\n",
        "Esse loop é gerado pela função eexp com n tentativas dentro da faixa especificada( nesse caso, 10,15) ao passo que na 14° tentativa, o valor do erro absoluto foi 0.006739 aproximadamente. O que implica que, aumentando - se a faixa de tentativas para 15,36(como do código original acima), o erro     relativo convergirá ainda mais para 0%, aproximando - se do ideal.\n",
        "\n",
        "Obs: o \"1/eexp(-x, n)\" é o exponencial e^-x. É basicamente se o valor de x for negativo, há a equivalência do inverso multiplicativo. Ex: e^-x = 1/e^x."
      ],
      "metadata": {
        "id": "iZHApHfYNrXy"
      }
    },
    {
      "cell_type": "code",
      "source": [
        "import math\n",
        "\n",
        "def eexp(x, n):\n",
        "    if x > 0:\n",
        "        y = 0\n",
        "        w = 1\n",
        "        for k in range(n + 1):  # Corrigido para incluir n\n",
        "            y += w\n",
        "            w *= x / (k + 1)\n",
        "        return y\n",
        "    elif x == 0: # esse artifício evita divisão por zero. Significa e^0\n",
        "        return 1\n",
        "    else:\n",
        "        return 1 / eexp(-x, n) #para caso de valores negativos\n",
        "\n",
        "def eexptol(x, tol, ex):\n",
        "    n = 1\n",
        "    y = eexp(x, n)\n",
        "    while abs(y - ex) > tol: # enquanto o erro absoluto for maior que a tolerância, a função while vai rodar novamente\n",
        "        n += 1\n",
        "        y = eexp(x, n)\n",
        "    return y\n",
        "\n",
        "# Retomando o funcionamento do código original, mas com o erro reduzido\n",
        "ex = math.exp(-5)\n",
        "tol = 1e-10  # Tolerância ajustada para um valor pequeno(pode ser redefinido)\n",
        "a = eexptol(-5, tol, ex)\n",
        "print(\"resultado aproximado:\", a)\n",
        "print(\"erro absoluto:\", abs(a - ex))\n",
        "print('{:>3}{:>14}{:>14}{:>14}{:>14}'.format(\"n\", \"eexp(-5, n)\", \"erro (%)\", \"1/eexp(5, n)\", \"erro (%)\"))\n",
        "for n in range(10, 15):\n",
        "    y1 = eexp(-5, n)\n",
        "    y2 = 1 / eexp(5, n) # para valores negativos\n",
        "    ea1 = abs(y1 - ex)  # erro absoluto 1\n",
        "    ea2 = abs(y2 - ex)  # erro absoluto 2\n",
        "    er1 = abs(ea1 / ex) * 100 # erro relativo 1\n",
        "    er2 = abs(ea2 / ex) * 100 # erro relativo 2\n",
        "    print('{:3d}{:14.10f}{:14.10f}{:14.10f}{:14.10f}'.format(n, y1, er1, y2, er2))"
      ],
      "metadata": {
        "colab": {
          "base_uri": "https://localhost:8080/"
        },
        "id": "v1HvC0giAmTz",
        "outputId": "e429ac63-f353-4f51-98c7-3d4de99a922f"
      },
      "execution_count": null,
      "outputs": [
        {
          "output_type": "stream",
          "name": "stdout",
          "text": [
            "resultado aproximado: 0.006737947025459596\n",
            "erro absoluto: 2.6374128575534783e-11\n",
            "  n   eexp(-5, n)      erro (%)  1/eexp(5, n)      erro (%)\n",
            " 10  0.0068315063  1.3885433338  0.0068315063  1.3885433338\n",
            " 11  0.0067748911  0.5482991168  0.0067748911  0.5482991168\n",
            " 12  0.0067515774  0.2022935634  0.0067515774  0.2022935634\n",
            " 13  0.0067426533  0.0698477509  0.0067426533  0.0698477509\n",
            " 14  0.0067394718  0.0226304878  0.0067394718  0.0226304878\n"
          ]
        }
      ]
    },
    {
      "cell_type": "markdown",
      "source": [
        "O código abaixo é o mesmo do acima, mas com a faixa ajustada para 15,36 para comprovar que o erro foi reduzido significamente."
      ],
      "metadata": {
        "id": "u4qucZKYbPsC"
      }
    },
    {
      "cell_type": "code",
      "source": [
        "import math\n",
        "\n",
        "def eexp(x, n):\n",
        "    if x > 0:\n",
        "        y = 0\n",
        "        w = 1\n",
        "        for k in range(n + 1):  # Corrigido para incluir n\n",
        "            y += w\n",
        "            w *= x / (k + 1)\n",
        "        return y\n",
        "    elif x == 0: # esse artifício evita divisão por zero. Significa e^0\n",
        "        return 1\n",
        "    else:\n",
        "        return 1 / eexp(-x, n) #para caso de valores negativos\n",
        "\n",
        "def eexptol(x, tol, ex):\n",
        "    n = 1\n",
        "    y = eexp(x, n)\n",
        "    while abs(y - ex) > tol: # enquanto o erro absoluto for maior que a tolerância, a função while vai rodar novamente\n",
        "        n += 1\n",
        "        y = eexp(x, n)\n",
        "    return y\n",
        "\n",
        "# Retomando o funcionamento do código original, mas com o erro reduzido\n",
        "ex = math.exp(-5)\n",
        "tol = 1e-10  # Tolerância ajustada para um valor pequeno(pode ser redefinido)\n",
        "a = eexptol(-5, tol, ex)\n",
        "print(\"resultado aproximado:\", a)\n",
        "print(\"erro absoluto:\", abs(a - ex))\n",
        "print('{:>3}{:>14}{:>14}{:>14}{:>14}'.format(\"n\", \"eexp(-5, n)\", \"erro (%)\", \"1/eexp(5, n)\", \"erro (%)\"))\n",
        "for n in range(15, 36): #mesma faixa do código original\n",
        "    y1 = eexp(-5, n)\n",
        "    y2 = 1 / eexp(5, n) # para valores negativos\n",
        "    ea1 = abs(y1 - ex)  # erro absoluto 1\n",
        "    ea2 = abs(y2 - ex)  # erro absoluto 2\n",
        "    er1 = abs(ea1 / ex) * 100 # erro relativo 1\n",
        "    er2 = abs(ea2 / ex) * 100 # erro relativo 2\n",
        "    print('{:3d}{:14.10f}{:14.10f}{:14.10f}{:14.10f}'.format(n, y1, er1, y2, er2))"
      ],
      "metadata": {
        "colab": {
          "base_uri": "https://localhost:8080/"
        },
        "id": "dCLdwGoRa_Ak",
        "outputId": "1fb517fe-687e-41ab-a23e-91957ecda9f1"
      },
      "execution_count": null,
      "outputs": [
        {
          "output_type": "stream",
          "name": "stdout",
          "text": [
            "resultado aproximado: 0.006737947025459596\n",
            "erro absoluto: 2.6374128575534783e-11\n",
            "  n   eexp(-5, n)      erro (%)  1/eexp(5, n)      erro (%)\n",
            " 15  0.0067384120  0.0069013004  0.0067384120  0.0069013004\n",
            " 16  0.0067380809  0.0019869438  0.0067380809  0.0019869438\n",
            " 17  0.0067379835  0.0005416368  0.0067379835  0.0005416368\n",
            " 18  0.0067379564  0.0001401700  0.0067379564  0.0001401700\n",
            " 19  0.0067379493  0.0000345214  0.0067379493  0.0000345214\n",
            " 20  0.0067379475  0.0000081093  0.0067379475  0.0000081093\n",
            " 21  0.0067379471  0.0000018207  0.0067379471  0.0000018207\n",
            " 22  0.0067379470  0.0000003914  0.0067379470  0.0000003914\n",
            " 23  0.0067379470  0.0000000807  0.0067379470  0.0000000807\n",
            " 24  0.0067379470  0.0000000160  0.0067379470  0.0000000160\n",
            " 25  0.0067379470  0.0000000030  0.0067379470  0.0000000030\n",
            " 26  0.0067379470  0.0000000006  0.0067379470  0.0000000006\n",
            " 27  0.0067379470  0.0000000001  0.0067379470  0.0000000001\n",
            " 28  0.0067379470  0.0000000000  0.0067379470  0.0000000000\n",
            " 29  0.0067379470  0.0000000000  0.0067379470  0.0000000000\n",
            " 30  0.0067379470  0.0000000000  0.0067379470  0.0000000000\n",
            " 31  0.0067379470  0.0000000000  0.0067379470  0.0000000000\n",
            " 32  0.0067379470  0.0000000000  0.0067379470  0.0000000000\n",
            " 33  0.0067379470  0.0000000000  0.0067379470  0.0000000000\n",
            " 34  0.0067379470  0.0000000000  0.0067379470  0.0000000000\n",
            " 35  0.0067379470  0.0000000000  0.0067379470  0.0000000000\n"
          ]
        }
      ]
    },
    {
      "cell_type": "markdown",
      "source": [
        "Já esse código abaixo, trata - se de uma aproximação do valor de cos(x) calculado no python com o real valor importado da biblioteca \"math\". Esse exercício em específico deixa bem nítido que, em python, todos os valores numéricos são aproximados (mesmos aqueles que são classificados como números inteiros). Em python, todo número apresenta pontos flutuantes. Isso significa que há a necessidade de tomar cuidado com um eventual erro matemático envolvendo qualquer operação no python.\n",
        "\n",
        "Explicação do código:\n",
        "\n",
        "Primeiramente é definido uma função \"cos_taylor\" que possui os parâmetros \"x\" e \"n\". Em seguida, são apresentadas as variáveis \"result\" e \"sign\". sign é uma variável que alterna entre 1 e -1 devido a limitação da imagem da função cosseno.\n",
        "\n",
        "O laço for pecorre cada elemento da série de Taylor até 10 de modo a Dentro da função cos_taylor, ser implementada a série de Taylor para cos(x) centrada em x=π, onde cada termo da série é calculado e somado para obter a aproximação do valor real importada de math.pi\n",
        "\n",
        "\n",
        "Definimos o número de termos na série de Taylor como 10, mas você pode ajustá-lo conforme necessário.\n",
        "\n",
        "Por fim, é impresso o resultado da aproximação e, pegando o gancho do exercício anterior, é verificado o erro relativo e absoluto."
      ],
      "metadata": {
        "id": "MP60fyK50v7e"
      }
    },
    {
      "cell_type": "code",
      "source": [
        "import math\n",
        "\n",
        "#definição da função cosseno e exercendo a série de Taylor\n",
        "\n",
        "def cos_taylor(x, n):\n",
        "    result = 0\n",
        "    sign = 1\n",
        "    for i in range(n):\n",
        "        term = sign * (x**(2*i) / math.factorial(2*i))\n",
        "        result += term\n",
        "        sign *= -1\n",
        "    return result\n",
        "\n",
        "#chamando a função cos_taylor dentro da variável aproximation\n",
        "\n",
        "x = math.pi\n",
        "n = 10\n",
        "approximation = cos_taylor(x, n)\n",
        "real_value = math.cos(x)\n",
        "ea1 = abs(approximation - real_value) #verificando o erro absoluto\n",
        "er1 = abs(ea1 / real_value) * 100 # verificando o erro relativo\n",
        "\n",
        "#verificação do código\n",
        "\n",
        "print(\"erro relativo:\", er1)\n",
        "print(\"erro absoluto:\", ea1)\n",
        "print(\"Aproximação de cos(pi):\", approximation)\n",
        "print(\"Valor real de cos(pi):\", real_value)"
      ],
      "metadata": {
        "colab": {
          "base_uri": "https://localhost:8080/"
        },
        "id": "bJM4AEeV0S_z",
        "outputId": "67f5d17b-253b-4ae2-ba5e-3a09207598c8"
      },
      "execution_count": 4,
      "outputs": [
        {
          "output_type": "stream",
          "name": "stdout",
          "text": [
            "erro relativo: 3.5290801392307003e-07\n",
            "erro absoluto: 3.5290801392307003e-09\n",
            "Aproximação de cos(pi): -1.0000000035290801\n",
            "Valor real de cos(pi): -1.0\n"
          ]
        }
      ]
    }
  ],
  "metadata": {
    "colab": {
      "provenance": [],
      "authorship_tag": "ABX9TyO1mDLjcmjyKvv+rAnVjNWI",
      "include_colab_link": true
    },
    "kernelspec": {
      "display_name": "Python 3",
      "name": "python3"
    },
    "language_info": {
      "name": "python"
    }
  },
  "nbformat": 4,
  "nbformat_minor": 0
}